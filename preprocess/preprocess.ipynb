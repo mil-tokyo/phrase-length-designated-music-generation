{
  "nbformat": 4,
  "nbformat_minor": 0,
  "metadata": {
    "colab": {
      "provenance": []
    },
    "kernelspec": {
      "name": "python3",
      "display_name": "Python 3"
    },
    "language_info": {
      "name": "python"
    }
  },
  "cells": [
    {
      "cell_type": "code",
      "execution_count": null,
      "metadata": {
        "colab": {
          "base_uri": "https://localhost:8080/"
        },
        "id": "rgytLc5_t_Gx",
        "outputId": "245b3357-5f11-4ad0-a9b1-0a65d57be541"
      },
      "outputs": [
        {
          "output_type": "stream",
          "name": "stdout",
          "text": [
            "Cloning into 'POP909-Dataset'...\n",
            "remote: Enumerating objects: 9265, done.\u001b[K\n",
            "remote: Counting objects: 100% (19/19), done.\u001b[K\n",
            "remote: Compressing objects: 100% (11/11), done.\u001b[K\n",
            "remote: Total 9265 (delta 6), reused 17 (delta 6), pack-reused 9246\u001b[K\n",
            "Receiving objects: 100% (9265/9265), 45.75 MiB | 25.05 MiB/s, done.\n",
            "Resolving deltas: 100% (12/12), done.\n",
            "Cloning into 'hierarchical-structure-analysis'...\n",
            "remote: Enumerating objects: 6890, done.\u001b[K\n",
            "remote: Counting objects: 100% (6890/6890), done.\u001b[K\n",
            "remote: Compressing objects: 100% (4170/4170), done.\u001b[K\n",
            "remote: Total 6890 (delta 1336), reused 6170 (delta 629), pack-reused 0\u001b[K\n",
            "Receiving objects: 100% (6890/6890), 1.61 MiB | 9.87 MiB/s, done.\n",
            "Resolving deltas: 100% (1336/1336), done.\n",
            "Looking in indexes: https://pypi.org/simple, https://us-python.pkg.dev/colab-wheels/public/simple/\n",
            "Collecting miditoolkit\n",
            "  Downloading miditoolkit-0.1.16-py3-none-any.whl (20 kB)\n",
            "Collecting mido>=1.1.16\n",
            "  Downloading mido-1.2.10-py2.py3-none-any.whl (51 kB)\n",
            "\u001b[K     |████████████████████████████████| 51 kB 3.3 MB/s \n",
            "\u001b[?25hRequirement already satisfied: numpy>=1.7.0 in /usr/local/lib/python3.8/dist-packages (from miditoolkit) (1.21.6)\n",
            "Installing collected packages: mido, miditoolkit\n",
            "Successfully installed miditoolkit-0.1.16 mido-1.2.10\n"
          ]
        }
      ],
      "source": [
        "!git clone https://github.com/music-x-lab/POP909-Dataset.git\n",
        "!git clone https://github.com/Dsqvival/hierarchical-structure-analysis.git\n",
        "!pip install miditoolkit"
      ]
    },
    {
      "cell_type": "code",
      "source": [
        "import math\n",
        "import miditoolkit"
      ],
      "metadata": {
        "id": "nPJ1Sy593L6B"
      },
      "execution_count": null,
      "outputs": []
    },
    {
      "cell_type": "markdown",
      "source": [
        "# Settings"
      ],
      "metadata": {
        "id": "HVs_VdHtyRVX"
      }
    },
    {
      "cell_type": "code",
      "source": [
        "piece_id = 1  #@param {type:\"integer\"}\n",
        "assert 1 <= piece_id <= 909, \"piece_id must be 1–909\""
      ],
      "metadata": {
        "id": "bsB3zxgdX9Wy",
        "cellView": "form"
      },
      "execution_count": null,
      "outputs": []
    },
    {
      "cell_type": "code",
      "source": [
        "piece_title = f\"{piece_id:03}\"\n",
        "\n",
        "midi_path = f\"POP909-Dataset/POP909/{piece_title}/{piece_title}.mid\"\n",
        "beat_annotation_path = f\"POP909-Dataset/POP909/{piece_title}/beat_audio.txt\"\n",
        "\n",
        "melody_annotation_path = f\"hierarchical-structure-analysis/POP909/{piece_title}/melody.txt\"\n",
        "chord_annotation_path = f\"hierarchical-structure-analysis/POP909/{piece_title}/finalized_chord.txt\"\n",
        "phrase_annotation_path = f\"hierarchical-structure-analysis/POP909/{piece_title}/human_label1.txt\""
      ],
      "metadata": {
        "id": "t0H47hqsx7LX"
      },
      "execution_count": null,
      "outputs": []
    },
    {
      "cell_type": "code",
      "source": [
        "resolution = 16  # Resolution of the 16th note\n",
        "beat = 4         # 4/4 time signatures"
      ],
      "metadata": {
        "id": "6YPHT_8UOB1i"
      },
      "execution_count": null,
      "outputs": []
    },
    {
      "cell_type": "markdown",
      "source": [
        "# REMI"
      ],
      "metadata": {
        "id": "_xPvXfwdHbRL"
      }
    },
    {
      "cell_type": "markdown",
      "source": [
        "## Check the time signature"
      ],
      "metadata": {
        "id": "w7h0Gim3HlRR"
      }
    },
    {
      "cell_type": "code",
      "source": [
        "with open(beat_annotation_path) as f:\n",
        "    beat_annotation = f.read().splitlines()"
      ],
      "metadata": {
        "id": "4Iizyf5T0etj"
      },
      "execution_count": null,
      "outputs": []
    },
    {
      "cell_type": "code",
      "source": [
        "print(beat_annotation)"
      ],
      "metadata": {
        "colab": {
          "base_uri": "https://localhost:8080/"
        },
        "id": "wcfUGxSJ5KGE",
        "outputId": "7b6a36a2-28ef-498e-c1be-f8093e880941"
      },
      "execution_count": null,
      "outputs": [
        {
          "output_type": "stream",
          "name": "stdout",
          "text": [
            "['2.66\\t1.0', '3.33\\t2.0', '4.0\\t3.0', '4.66\\t4.0', '5.33\\t1.0', '5.99\\t2.0', '6.66\\t3.0', '7.33\\t4.0', '7.99\\t1.0', '8.66\\t2.0', '9.33\\t3.0', '9.99\\t4.0', '10.66\\t1.0', '11.33\\t2.0', '12.0\\t3.0', '12.66\\t4.0', '13.33\\t1.0', '14.0\\t2.0', '14.66\\t3.0', '15.33\\t4.0', '16.0\\t1.0', '16.66\\t2.0', '17.33\\t3.0', '18.0\\t4.0', '18.66\\t1.0', '19.33\\t2.0', '20.0\\t3.0', '20.66\\t4.0', '21.33\\t1.0', '22.0\\t2.0', '22.66\\t3.0', '23.32\\t4.0', '24.0\\t1.0', '24.66\\t2.0', '25.32\\t3.0', '25.99\\t4.0', '26.66\\t1.0', '27.33\\t2.0', '28.0\\t3.0', '28.66\\t4.0', '29.33\\t1.0', '29.99\\t2.0', '30.66\\t3.0', '31.33\\t4.0', '32.0\\t1.0', '32.66\\t2.0', '33.32\\t3.0', '33.99\\t4.0', '34.66\\t1.0', '35.33\\t2.0', '35.99\\t3.0', '36.66\\t4.0', '37.33\\t1.0', '37.99\\t2.0', '38.66\\t3.0', '39.33\\t4.0', '40.0\\t1.0', '40.66\\t2.0', '41.33\\t3.0', '41.99\\t4.0', '42.66\\t1.0', '43.33\\t2.0', '44.0\\t3.0', '44.66\\t4.0', '45.33\\t1.0', '46.0\\t2.0', '46.66\\t3.0', '47.33\\t4.0', '48.0\\t1.0', '48.66\\t2.0', '49.33\\t3.0', '50.0\\t4.0', '50.66\\t1.0', '51.33\\t2.0', '52.0\\t3.0', '52.66\\t4.0', '53.33\\t1.0', '54.0\\t2.0', '54.67\\t3.0', '55.33\\t4.0', '56.0\\t1.0', '56.67\\t2.0', '57.33\\t3.0', '58.0\\t4.0', '58.66\\t1.0', '59.33\\t2.0', '60.0\\t3.0', '60.66\\t4.0', '61.33\\t1.0', '62.0\\t2.0', '62.66\\t3.0', '63.33\\t4.0', '64.0\\t1.0', '64.66\\t2.0', '65.33\\t3.0', '65.99\\t4.0', '66.66\\t1.0', '67.33\\t2.0', '67.99\\t3.0', '68.66\\t4.0', '69.33\\t1.0', '69.99\\t2.0', '70.66\\t3.0', '71.33\\t4.0', '71.99\\t1.0', '72.66\\t2.0', '73.33\\t3.0', '73.99\\t4.0', '74.66\\t1.0', '75.33\\t2.0', '75.99\\t3.0', '76.67\\t4.0', '77.33\\t1.0', '77.99\\t2.0', '78.62\\t3.0', '79.33\\t4.0', '79.99\\t1.0', '80.66\\t2.0', '81.33\\t3.0', '81.99\\t4.0', '82.66\\t1.0', '83.33\\t2.0', '83.97\\t3.0', '84.66\\t4.0', '85.33\\t1.0', '85.99\\t2.0', '86.66\\t3.0', '87.33\\t4.0', '88.0\\t1.0', '88.66\\t2.0', '89.33\\t3.0', '89.99\\t4.0', '90.66\\t1.0', '91.33\\t2.0', '91.99\\t3.0', '92.66\\t4.0', '93.33\\t1.0', '93.99\\t2.0', '94.66\\t3.0', '95.33\\t4.0', '96.0\\t1.0', '96.66\\t2.0', '97.33\\t3.0', '98.0\\t4.0', '98.66\\t1.0', '99.33\\t2.0', '100.0\\t3.0', '100.66\\t4.0', '101.33\\t1.0', '102.0\\t2.0', '102.66\\t3.0', '103.33\\t4.0', '104.0\\t1.0', '104.66\\t2.0', '105.33\\t3.0', '106.0\\t4.0', '106.67\\t1.0', '107.33\\t2.0', '108.0\\t3.0', '108.66\\t4.0', '109.33\\t1.0', '110.0\\t2.0', '110.66\\t3.0', '111.33\\t4.0', '112.0\\t1.0', '112.66\\t2.0', '113.33\\t3.0', '113.99\\t4.0', '114.66\\t1.0', '115.33\\t2.0', '115.99\\t3.0', '116.66\\t4.0', '117.33\\t1.0', '118.0\\t2.0', '118.66\\t3.0', '119.33\\t4.0', '119.99\\t1.0', '120.66\\t2.0', '121.33\\t3.0', '121.99\\t4.0', '122.66\\t1.0', '123.32\\t2.0', '124.0\\t3.0', '124.66\\t4.0', '125.33\\t1.0', '125.99\\t2.0', '126.66\\t3.0', '127.32\\t4.0', '128.0\\t1.0', '128.66\\t2.0', '129.33\\t3.0', '129.99\\t4.0', '130.66\\t1.0', '131.33\\t2.0', '132.0\\t3.0', '132.66\\t4.0', '133.33\\t1.0', '134.0\\t2.0', '134.67\\t3.0', '135.33\\t4.0', '136.0\\t1.0', '136.66\\t2.0', '137.33\\t3.0', '137.99\\t4.0', '138.66\\t1.0', '139.33\\t2.0', '140.0\\t3.0', '140.66\\t4.0', '141.33\\t1.0', '141.99\\t2.0', '142.67\\t3.0', '143.32\\t4.0', '143.99\\t1.0', '144.66\\t2.0', '145.33\\t3.0', '145.99\\t4.0', '146.67\\t1.0', '147.33\\t2.0', '148.0\\t3.0', '148.66\\t4.0', '149.33\\t1.0', '149.99\\t2.0', '150.65\\t3.0', '151.33\\t4.0', '152.0\\t1.0', '152.66\\t2.0', '153.33\\t3.0', '153.99\\t4.0', '154.66\\t1.0', '155.33\\t2.0', '156.0\\t3.0', '156.66\\t4.0', '157.33\\t1.0', '158.0\\t2.0', '158.66\\t3.0', '159.33\\t4.0', '160.0\\t1.0', '160.66\\t2.0', '161.33\\t3.0', '162.0\\t4.0', '162.66\\t1.0', '163.33\\t2.0', '164.0\\t3.0', '164.66\\t4.0', '165.33\\t1.0', '166.0\\t2.0', '166.66\\t3.0', '167.33\\t4.0', '167.99\\t1.0', '168.66\\t2.0', '169.33\\t3.0', '170.0\\t4.0', '170.66\\t1.0', '171.33\\t2.0', '172.0\\t3.0', '172.66\\t4.0', '173.33\\t1.0', '174.0\\t2.0', '174.67\\t3.0', '175.33\\t4.0', '175.99\\t1.0', '176.66\\t2.0', '177.33\\t3.0', '178.0\\t4.0', '178.66\\t1.0', '179.33\\t2.0', '180.0\\t3.0', '180.66\\t4.0', '181.33\\t1.0', '182.0\\t2.0', '182.66\\t3.0', '183.33\\t4.0', '184.0\\t1.0', '184.66\\t2.0', '185.33\\t3.0', '185.99\\t4.0', '186.67\\t1.0', '187.32\\t2.0', '188.0\\t3.0', '188.66\\t4.0', '189.33\\t1.0', '189.99\\t2.0', '190.66\\t3.0', '191.32\\t4.0', '191.99\\t1.0']\n"
          ]
        }
      ]
    },
    {
      "cell_type": "code",
      "source": [
        "# Don't use pieces with 3/4 time signatures\n",
        "if max(float(x.split('\\t')[1]) for x in beat_annotation) != beat:\n",
        "    raise ValueError(f\"Pieces with {beat}/4 time signatures can be used.\")"
      ],
      "metadata": {
        "id": "zre6flPB4ldt"
      },
      "execution_count": null,
      "outputs": []
    },
    {
      "cell_type": "markdown",
      "source": [
        "## Load MIDI"
      ],
      "metadata": {
        "id": "jiUFEuvaKNTO"
      }
    },
    {
      "cell_type": "code",
      "source": [
        "midi_obj = miditoolkit.midi.parser.MidiFile(midi_path)"
      ],
      "metadata": {
        "id": "tTRXebUL4aKR"
      },
      "execution_count": null,
      "outputs": []
    },
    {
      "cell_type": "code",
      "source": [
        "print(midi_obj)"
      ],
      "metadata": {
        "id": "T9U55nypGSzs",
        "outputId": "ded4e269-68f3-4d53-a44f-64092b56ee4f",
        "colab": {
          "base_uri": "https://localhost:8080/"
        }
      },
      "execution_count": null,
      "outputs": [
        {
          "output_type": "stream",
          "name": "stdout",
          "text": [
            "ticks per beat: 480\n",
            "max tick: 141124\n",
            "tempo changes: 1\n",
            "time sig: 1\n",
            "key sig: 0\n",
            "markers: 0\n",
            "lyrics: False\n",
            "instruments: 3\n"
          ]
        }
      ]
    },
    {
      "cell_type": "code",
      "source": [
        "print(*midi_obj.instruments[0].notes[:10], sep='\\n')"
      ],
      "metadata": {
        "colab": {
          "base_uri": "https://localhost:8080/"
        },
        "id": "wev0A0VlJ02K",
        "outputId": "600f7790-59ee-4540-80b2-65f64ae268f5"
      },
      "execution_count": null,
      "outputs": [
        {
          "output_type": "stream",
          "name": "stdout",
          "text": [
            "Note(start=9160, end=9229, pitch=61, velocity=115)\n",
            "Note(start=9280, end=9325, pitch=63, velocity=109)\n",
            "Note(start=9400, end=9449, pitch=66, velocity=118)\n",
            "Note(start=9520, end=9580, pitch=68, velocity=112)\n",
            "Note(start=9640, end=9719, pitch=70, velocity=112)\n",
            "Note(start=9880, end=10028, pitch=66, velocity=112)\n",
            "Note(start=10120, end=10293, pitch=63, velocity=118)\n",
            "Note(start=10360, end=11071, pitch=68, velocity=115)\n",
            "Note(start=11560, end=11724, pitch=68, velocity=112)\n",
            "Note(start=11800, end=11938, pitch=65, velocity=115)\n"
          ]
        }
      ]
    },
    {
      "cell_type": "markdown",
      "source": [
        "## Quantize and convert to Item"
      ],
      "metadata": {
        "id": "nPOkaRkkHzN1"
      }
    },
    {
      "cell_type": "code",
      "source": [
        "class Item(object):\n",
        "    def __init__(self, name, start, duration, value):\n",
        "        self.name = name\n",
        "        self.start = self.quantize(start, 1)\n",
        "        self.duration = max(0.5, self.quantize(duration, 0.5))\n",
        "        self.value = value\n",
        "\n",
        "    def quantize(self, x, step):\n",
        "        return math.ceil(x / step - 0.5) * step\n",
        "\n",
        "    def __repr__(self):\n",
        "        return f\"Item(name={self.name}, start={self.start}, duration={self.duration}, value={self.value})\""
      ],
      "metadata": {
        "id": "vfmAZ30wE9jl"
      },
      "execution_count": null,
      "outputs": []
    },
    {
      "cell_type": "markdown",
      "source": [
        "#### Note items"
      ],
      "metadata": {
        "id": "nZS81BrAIJGY"
      }
    },
    {
      "cell_type": "code",
      "source": [
        "resolution_ticks = midi_obj.ticks_per_beat * beat // resolution\n",
        "\n",
        "melody_note_items = [Item(name='Note', start=note.start / resolution_ticks, duration=(note.end - note.start) / resolution_ticks, value=note.pitch) for note in midi_obj.instruments[0].notes]\n",
        "bridge_note_items = [Item(name='Note', start=note.start / resolution_ticks, duration=(note.end - note.start) / resolution_ticks, value=note.pitch) for note in midi_obj.instruments[1].notes]\n",
        "piano_note_items = [Item(name='Note', start=note.start / resolution_ticks, duration=(note.end - note.start) / resolution_ticks, value=note.pitch) for note in midi_obj.instruments[2].notes]\n",
        "\n",
        "note_items = melody_note_items + bridge_note_items + piano_note_items\n",
        "note_items.sort(key=lambda x: (x.start, x.value))"
      ],
      "metadata": {
        "id": "_T0F_XAz4pYZ"
      },
      "execution_count": null,
      "outputs": []
    },
    {
      "cell_type": "code",
      "source": [
        "print(*note_items[:10], sep='\\n')"
      ],
      "metadata": {
        "id": "YVRtlMawFSYY",
        "colab": {
          "base_uri": "https://localhost:8080/"
        },
        "outputId": "7941644e-93c6-4dae-cd7a-9633b0ddd857"
      },
      "execution_count": null,
      "outputs": [
        {
          "output_type": "stream",
          "name": "stdout",
          "text": [
            "Item(name=Note, start=14, duration=1.5, value=66)\n",
            "Item(name=Note, start=16, duration=5.5, value=47)\n",
            "Item(name=Note, start=16, duration=2.0, value=75)\n",
            "Item(name=Note, start=17, duration=4.5, value=54)\n",
            "Item(name=Note, start=18, duration=3.0, value=59)\n",
            "Item(name=Note, start=18, duration=1.0, value=73)\n",
            "Item(name=Note, start=19, duration=5.0, value=66)\n",
            "Item(name=Note, start=20, duration=1.0, value=71)\n",
            "Item(name=Note, start=22, duration=1.0, value=80)\n",
            "Item(name=Note, start=23, duration=1.0, value=82)\n"
          ]
        }
      ]
    },
    {
      "cell_type": "markdown",
      "source": [
        "In the annotations, the piece is manually shifted to align the downbeats to the barlines.    \n",
        "Thus, we calculate the offset between the first note of the melody in the melody annotation and that in POP909, and we shift all notes.   \n",
        "Also, we shift them back one bar to consider an anacrusis (auftakt)."
      ],
      "metadata": {
        "id": "od5t7SMzNOYo"
      }
    },
    {
      "cell_type": "code",
      "source": [
        "with open(melody_annotation_path) as f:\n",
        "    melody_annotation = f.read().splitlines()"
      ],
      "metadata": {
        "id": "shaQKjhTFZqy"
      },
      "execution_count": null,
      "outputs": []
    },
    {
      "cell_type": "code",
      "source": [
        "print(melody_annotation)"
      ],
      "metadata": {
        "colab": {
          "base_uri": "https://localhost:8080/"
        },
        "id": "s3iu2hUk5UG9",
        "outputId": "35c97014-e218-46dc-94d6-c82a69d1700b"
      },
      "execution_count": null,
      "outputs": [
        {
          "output_type": "stream",
          "name": "stdout",
          "text": [
            "['0 60', '61 1', '63 1', '66 1', '68 1', '70 1', '0 1', '66 1', '0 1', '63 1', '0 1', '68 6', '0 4', '68 1', '0 1', '65 1', '0 1', '61 1', '0 1', '66 5', '0 1', '61 1', '63 1', '66 1', '68 1', '70 1', '0 1', '66 1', '0 1', '63 1', '0 1', '68 3', '0 1', '61 1', '0 1', '68 1', '0 1', '66 7', '0 11', '66 2', '0 2', '66 2', '0 2', '65 1', '0 1', '66 1', '65 1', '0 4', '65 1', '0 1', '66 1', '65 1', '0 1', '61 1', '0 1', '63 4', '0 3', '63 1', '65 1', '66 3', '0 1', '66 2', '0 2', '65 1', '0 1', '66 1', '65 1', '0 1', '63 1', '0 1', '61 8', '0 9', '66 2', '0 2', '66 3', '0 1', '68 1', '0 1', '70 1', '68 1', '0 4', '68 1', '0 1', '70 1', '68 1', '0 1', '65 1', '0 1', '66 5', '0 2', '61 1', '63 1', '66 1', '0 1', '70 1', '68 1', '0 1', '66 1', '0 2', '68 1', '0 1', '70 1', '68 1', '0 1', '66 1', '0 2', '66 6', '0 6', '61 1', '63 1', '66 1', '68 1', '70 1', '0 1', '66 1', '0 1', '63 1', '0 1', '68 6', '0 4', '68 1', '0 1', '65 1', '0 1', '61 1', '0 1', '66 5', '0 1', '61 1', '63 1', '66 1', '68 1', '70 1', '0 1', '66 1', '0 1', '63 1', '0 1', '68 3', '0 1', '61 1', '0 1', '68 1', '0 1', '70 7', '0 7', '61 1', '63 1', '66 1', '68 1', '70 1', '0 1', '66 1', '0 1', '63 1', '0 1', '68 6', '0 4', '68 1', '0 1', '65 1', '0 1', '61 1', '0 1', '66 5', '0 1', '61 1', '63 1', '66 1', '68 1', '70 1', '0 1', '66 1', '0 1', '63 1', '0 1', '68 3', '0 1', '61 1', '0 1', '68 1', '0 1', '66 7', '0 75', '66 2', '0 2', '66 2', '0 2', '65 1', '0 1', '66 1', '65 1', '0 4', '65 1', '0 1', '66 1', '65 1', '0 1', '61 1', '0 1', '63 4', '0 3', '63 1', '65 1', '66 3', '0 1', '66 2', '0 2', '65 1', '0 1', '66 1', '65 1', '0 1', '63 1', '0 1', '61 8', '0 9', '66 2', '0 2', '66 3', '0 1', '68 1', '0 1', '70 1', '68 1', '0 4', '68 1', '0 1', '70 1', '68 1', '0 1', '65 1', '0 1', '66 5', '0 2', '61 1', '63 1', '66 1', '0 1', '70 1', '68 1', '0 1', '66 1', '0 2', '68 1', '0 1', '70 1', '68 1', '0 1', '66 1', '0 2', '66 6', '0 6', '61 1', '63 1', '66 1', '68 1', '70 1', '0 1', '66 1', '0 1', '63 1', '0 1', '68 6', '0 4', '68 1', '0 1', '65 1', '0 1', '61 1', '0 1', '66 5', '0 1', '61 1', '63 1', '66 1', '68 1', '70 1', '0 1', '66 1', '0 1', '63 1', '0 1', '68 3', '0 1', '61 1', '0 1', '68 1', '0 1', '70 7', '0 7', '61 1', '63 1', '66 1', '68 1', '70 1', '0 1', '66 1', '0 1', '63 1', '0 1', '68 6', '0 4', '68 1', '0 1', '65 1', '0 1', '61 1', '0 1', '66 5', '0 1', '61 1', '63 1', '66 1', '68 1', '70 1', '0 1', '66 1', '0 1', '63 1', '0 1', '68 3', '0 1', '61 1', '0 1', '68 1', '0 1', '66 7', '0 135', '61 1', '63 1', '66 1', '68 1', '70 1', '0 1', '66 1', '0 1', '63 1', '0 1', '68 6', '0 4', '68 1', '0 1', '65 1', '0 1', '61 1', '0 1', '66 5', '0 1', '61 1', '63 1', '66 1', '68 1', '70 1', '0 1', '66 1', '0 1', '63 1', '0 1', '68 3', '0 1', '61 1', '0 1', '68 1', '0 1', '70 7', '0 7', '61 1', '63 1', '66 1', '68 1', '70 1', '0 1', '66 1', '0 1', '63 1', '0 1', '68 6', '0 4', '68 1', '0 1', '65 1', '0 1', '61 1', '0 1', '66 5', '0 1', '61 1', '63 1', '66 1', '68 1', '70 1', '0 1', '66 1', '0 1', '63 1', '0 1', '68 3', '0 1', '61 1', '0 1', '68 1', '0 1', '66 7', '0 71', '61 1', '63 1', '66 1', '68 1', '70 1', '0 1', '66 1', '0 1', '63 1', '0 1', '68 6', '0 4', '68 1', '0 1', '65 1', '0 1', '61 1', '0 1', '66 5', '0 1', '61 1', '63 1', '66 1', '68 1', '70 1', '0 1', '66 1', '0 1', '63 1', '0 1', '68 3', '0 1', '61 1', '0 1', '68 1', '0 1', '66 7']\n"
          ]
        }
      ]
    },
    {
      "cell_type": "code",
      "source": [
        "note_number, duration = map(int, melody_annotation[0].split())\n",
        "\n",
        "melody_start = resolution  # Shift for an anacrusis\n",
        "if note_number == 0:\n",
        "    melody_start += duration  # Shift for offset of the melody's first note\n",
        "shift = melody_start - melody_note_items[0].start\n",
        "\n",
        "for note_item in note_items:\n",
        "    note_item.start += shift\n",
        "\n",
        "# Don't use pieces whose position of the notes seems incorrect\n",
        "if note_items[0].start < 0 or note_items[0].start >= 32:\n",
        "    raise ValueError(\"Invalid start time.\")"
      ],
      "metadata": {
        "id": "paq3GO9FKtdB"
      },
      "execution_count": null,
      "outputs": []
    },
    {
      "cell_type": "code",
      "source": [
        "print(*note_items[:10], sep='\\n')"
      ],
      "metadata": {
        "colab": {
          "base_uri": "https://localhost:8080/"
        },
        "id": "uyOBbqhS67zv",
        "outputId": "4e8e9254-3eb6-4eed-dfc2-c3f320078878"
      },
      "execution_count": null,
      "outputs": [
        {
          "output_type": "stream",
          "name": "stdout",
          "text": [
            "Item(name=Note, start=14, duration=1.5, value=66)\n",
            "Item(name=Note, start=16, duration=5.5, value=47)\n",
            "Item(name=Note, start=16, duration=2.0, value=75)\n",
            "Item(name=Note, start=17, duration=4.5, value=54)\n",
            "Item(name=Note, start=18, duration=3.0, value=59)\n",
            "Item(name=Note, start=18, duration=1.0, value=73)\n",
            "Item(name=Note, start=19, duration=5.0, value=66)\n",
            "Item(name=Note, start=20, duration=1.0, value=71)\n",
            "Item(name=Note, start=22, duration=1.0, value=80)\n",
            "Item(name=Note, start=23, duration=1.0, value=82)\n"
          ]
        }
      ]
    },
    {
      "cell_type": "markdown",
      "source": [
        "#### Bar items"
      ],
      "metadata": {
        "id": "DoO2-BHzyoVa"
      }
    },
    {
      "cell_type": "code",
      "source": [
        "n_bars = math.ceil(max(x.start + x.duration for x in note_items) / resolution)\n",
        "bar_items = [Item(name='Bar', start=i * resolution, duration=resolution, value=None) for i in range(n_bars + 1)]"
      ],
      "metadata": {
        "id": "On9QU5UvylDP"
      },
      "execution_count": null,
      "outputs": []
    },
    {
      "cell_type": "code",
      "source": [
        "print(*bar_items[:10], sep='\\n')"
      ],
      "metadata": {
        "colab": {
          "base_uri": "https://localhost:8080/"
        },
        "id": "T5ePb_6WzPMI",
        "outputId": "8b631d56-7d93-4a44-fda5-0154c74dff84"
      },
      "execution_count": null,
      "outputs": [
        {
          "output_type": "stream",
          "name": "stdout",
          "text": [
            "Item(name=Bar, start=0, duration=16.0, value=None)\n",
            "Item(name=Bar, start=16, duration=16.0, value=None)\n",
            "Item(name=Bar, start=32, duration=16.0, value=None)\n",
            "Item(name=Bar, start=48, duration=16.0, value=None)\n",
            "Item(name=Bar, start=64, duration=16.0, value=None)\n",
            "Item(name=Bar, start=80, duration=16.0, value=None)\n",
            "Item(name=Bar, start=96, duration=16.0, value=None)\n",
            "Item(name=Bar, start=112, duration=16.0, value=None)\n",
            "Item(name=Bar, start=128, duration=16.0, value=None)\n",
            "Item(name=Bar, start=144, duration=16.0, value=None)\n"
          ]
        }
      ]
    },
    {
      "cell_type": "markdown",
      "source": [
        "#### Chord items"
      ],
      "metadata": {
        "id": "PRzafkOQyj7q"
      }
    },
    {
      "cell_type": "code",
      "source": [
        "with open(chord_annotation_path) as f:\n",
        "    chord_annotation = f.read().splitlines()"
      ],
      "metadata": {
        "id": "rRpxYxiUGRb5"
      },
      "execution_count": null,
      "outputs": []
    },
    {
      "cell_type": "code",
      "source": [
        "print(chord_annotation)"
      ],
      "metadata": {
        "colab": {
          "base_uri": "https://localhost:8080/"
        },
        "id": "jKsgNJI-5eor",
        "outputId": "157c6ad0-40b6-4bae-ec2d-e7cdacf6ce1b"
      },
      "execution_count": null,
      "outputs": [
        {
          "output_type": "stream",
          "name": "stdout",
          "text": [
            "['B:maj [3, 6, 11] 11 2 ', 'C#:maj [1, 5, 8] 1 2 ', 'Bb:min [1, 5, 10] 10 2 ', 'Eb:min [3, 6, 10] 3 2 ', 'B:maj [3, 6, 11] 11 2 ', 'C#:maj [1, 5, 8] 1 2 ', 'F#:maj [1, 6, 10] 6 4 ', 'B:maj [3, 6, 11] 11 1 ', 'B:maj7 [3, 6, 9, 11] 11 1 ', 'C#:maj [1, 5, 8] 1 2 ', 'Bb:min [1, 5, 10] 10 2 ', 'Eb:min [3, 6, 10] 3 2 ', 'B:maj [3, 6, 11] 11 1 ', 'B:maj7 [3, 6, 9, 11] 11 1 ', 'C#:maj [1, 5, 8] 1 2 ', 'F#:maj [1, 6, 10] 6 4 ', 'B:maj [3, 6, 11] 11 2 ', 'C#:maj [1, 5, 8] 1 2 ', 'Bb:min [1, 5, 10] 10 2 ', 'Eb:min [3, 6, 10] 3 2 ', 'B:maj [3, 6, 11] 11 2 ', 'C#:maj [1, 5, 8] 1 2 ', 'F#:maj [1, 6, 10] 6 4 ', 'B:maj [3, 6, 11] 11 2 ', 'C#:maj [1, 5, 8] 1 2 ', 'Bb:min [1, 5, 10] 10 2 ', 'Eb:min [3, 6, 10] 3 2 ', 'B:maj [3, 6, 11] 11 2 ', 'C#:maj [1, 5, 8] 1 2 ', 'F#:maj [1, 6, 10] 6 4 ', 'B:maj [3, 6, 11] 11 1 ', 'B:maj7 [3, 6, 9, 11] 11 1 ', 'C#:maj [1, 5, 8] 1 2 ', 'Bb:min [1, 5, 10] 10 2 ', 'Eb:min [3, 6, 10] 3 2 ', 'B:maj [3, 6, 11] 11 1 ', 'B:maj7 [3, 6, 9, 11] 11 1 ', 'C#:maj [1, 5, 8] 1 2 ', 'F#:maj [1, 6, 10] 6 4 ', 'B:maj [3, 6, 11] 11 1 ', 'B:maj7 [3, 6, 9, 11] 11 1 ', 'C#:maj [1, 5, 8] 1 2 ', 'Bb:min [1, 5, 10] 10 2 ', 'Eb:min [3, 6, 10] 3 2 ', 'B:maj [3, 6, 11] 11 1 ', 'B:maj7 [3, 6, 9, 11] 11 1 ', 'C#:maj [1, 5, 8] 1 2 ', 'F#:maj [1, 6, 10] 6 4 ', 'B:maj [3, 6, 11] 11 2 ', 'B:maj7 [3, 6, 9, 11] 11 2 ', 'Bb:min [1, 5, 10] 10 2 ', 'Bb:min7 [1, 5, 8, 10] 10 2 ', 'B:maj [3, 6, 11] 11 2 ', 'C#:maj [1, 5, 8] 1 2 ', 'F#:maj [1, 6, 10] 6 4 ', 'B:maj [3, 6, 11] 11 2 ', 'B:maj9 [1, 3, 6, 9, 11] 11 2 ', 'Bb:min [1, 5, 10] 10 2 ', 'Eb:min [3, 6, 10] 3 2 ', 'B:maj [3, 6, 11] 11 2 ', 'C#:maj [1, 5, 8] 1 2 ', 'F#:maj [1, 6, 10] 6 4 ', 'B:maj [3, 6, 11] 11 2 ', 'C#:maj [1, 5, 8] 1 2 ', 'Bb:min [1, 5, 10] 10 2 ', 'Eb:min [3, 6, 10] 3 2 ', 'B:maj [3, 6, 11] 11 2 ', 'C#:maj [1, 5, 8] 1 2 ', 'F#:maj [1, 6, 10] 6 4 ', 'B:maj [3, 6, 11] 11 1 ', 'B:maj7 [3, 6, 9, 11] 11 1 ', 'C#:maj [1, 5, 8] 1 2 ', 'Bb:min [1, 5, 10] 10 2 ', 'Eb:min [3, 6, 10] 3 2 ', 'B:maj [3, 6, 11] 11 1 ', 'B:maj7 [3, 6, 9, 11] 11 1 ', 'C#:maj [1, 5, 8] 1 2 ', 'F#:maj [1, 6, 10] 6 4 ', 'B:maj [3, 6, 11] 11 1 ', 'B:maj7 [3, 6, 9, 11] 11 1 ', 'C#:maj [1, 5, 8] 1 2 ', 'Bb:min [1, 5, 10] 10 2 ', 'Eb:min [3, 6, 10] 3 2 ', 'B:maj [3, 6, 11] 11 1 ', 'B:maj7 [3, 6, 9, 11] 11 1 ', 'C#:maj [1, 5, 8] 1 2 ', 'F#:maj [1, 6, 10] 6 4 ', 'B:maj [3, 6, 11] 11 2 ', 'C#:maj [1, 5, 8] 1 2 ', 'Bb:min [1, 5, 10] 10 2 ', 'Eb:min [3, 6, 10] 3 2 ', 'B:maj [3, 6, 11] 11 2 ', 'C#:maj [1, 5, 8] 1 2 ', 'F#:maj [1, 6, 10] 6 4 ', 'B:maj [3, 6, 11] 11 2 ', 'C#:maj [1, 5, 8] 1 2 ', 'Bb:min [1, 5, 10] 10 2 ', 'Eb:min [3, 6, 10] 3 2 ', 'B:maj [3, 6, 11] 11 2 ', 'C#:maj [1, 5, 8] 1 2 ', 'F#:maj [1, 6, 10] 6 4 ', 'B:maj [3, 6, 11] 11 2 ', 'C#:maj [1, 5, 8] 1 2 ', 'Bb:min [1, 5, 10] 10 2 ', 'Eb:min [3, 6, 10] 3 2 ', 'B:maj [3, 6, 11] 11 2 ', 'C#:maj [1, 5, 8] 1 2 ', 'F#:maj [1, 6, 10] 6 4 ', 'B:maj [3, 6, 11] 11 1 ', 'B:maj7 [3, 6, 9, 11] 11 1 ', 'C#:maj [1, 5, 8] 1 2 ', 'Bb:min [1, 5, 10] 10 2 ', 'Eb:min [3, 6, 10] 3 2 ', 'B:maj [3, 6, 11] 11 1 ', 'B:maj9 [1, 3, 6, 9, 11] 11 1 ', 'C#:maj [1, 5, 8] 1 2 ', 'F#:maj [1, 6, 10] 6 4 ', 'B:maj [3, 6, 11] 11 2 ', 'C#:maj [1, 5, 8] 1 2 ', 'Bb:min [1, 5, 10] 10 2 ', 'Eb:min [3, 6, 10] 3 2 ', 'B:maj [3, 6, 11] 11 1 ', 'B:maj7 [3, 6, 9, 11] 11 1 ', 'C#:maj [1, 5, 8] 1 2 ', 'F#:maj [1, 6, 10] 6 4 ', 'B:maj [3, 6, 11] 11 1 ', 'B:maj7 [3, 6, 9, 11] 11 1 ', 'C#:maj [1, 5, 8] 1 4 ', 'Eb:min [3, 6, 10] 3 2 ', 'B:maj [3, 6, 11] 11 1 ', 'B:maj7 [3, 6, 9, 11] 11 1 ', 'C#:maj [1, 5, 8] 1 2 ', 'F#:maj [1, 6, 10] 6 4 ', 'B:maj [3, 6, 11] 11 1 ', 'C#:maj [1, 5, 8] 1 3 ', 'Bb:min [1, 5, 10] 10 1 ', 'Eb:min [3, 6, 10] 3 3 ', 'B:maj [3, 6, 11] 11 1 ', 'C#:maj [1, 5, 8] 1 3 ']\n"
          ]
        }
      ]
    },
    {
      "cell_type": "markdown",
      "source": [
        "All flats on the root note are changed to sharps.   \n",
        "The chord types are limited to six types (maj, min, dim, aug, sus4, sus2)."
      ],
      "metadata": {
        "id": "OhvZihRxRnK-"
      }
    },
    {
      "cell_type": "code",
      "source": [
        "root_integration_table = {\"Db\": \"C#\", \"Eb\": \"D#\", \"Gb\": \"F#\", \"Ab\": \"G#\", \"Bb\": \"A#\"}\n",
        "\n",
        "chord_items = [Item(name='Chord', start=0, duration=resolution, value='N:N')]\n",
        "for element in chord_annotation:\n",
        "    chord, *_, beat_duration = element.split()\n",
        "    duration = resolution // beat * int(beat_duration)\n",
        "\n",
        "    if chord.startswith('N'):\n",
        "        chord = 'N:N'\n",
        "    else:\n",
        "        root, symbol = chord.split(':')\n",
        "        if 'min' in symbol: symbol = 'min'\n",
        "        elif 'maj' in symbol: symbol = 'maj'\n",
        "        elif 'dim' in symbol: symbol = 'dim'\n",
        "        elif 'aug' in symbol: symbol = 'aug'\n",
        "        elif 'sus4' in symbol: symbol = 'sus4'\n",
        "        elif 'sus2' in symbol: symbol = 'sus2'\n",
        "        else: symbol = 'maj'  # 7, 9, ...\n",
        "        root = root_integration_table.get(root, root)\n",
        "        chord = f'{root}:{symbol}'\n",
        "\n",
        "    if chord == chord_items[-1].value:\n",
        "        chord_items[-1].duration += duration\n",
        "    else:\n",
        "        start = chord_items[-1].start + chord_items[-1].duration\n",
        "        chord_items.append(Item(name='Chord', start=start, duration=duration, value=chord))"
      ],
      "metadata": {
        "id": "iEif6xx1xdhC"
      },
      "execution_count": null,
      "outputs": []
    },
    {
      "cell_type": "code",
      "source": [
        "print(*chord_items[:10], sep='\\n')"
      ],
      "metadata": {
        "colab": {
          "base_uri": "https://localhost:8080/"
        },
        "id": "tHQ0JZkAjNFk",
        "outputId": "63eab502-9761-4a58-a805-74f552ba9f58"
      },
      "execution_count": null,
      "outputs": [
        {
          "output_type": "stream",
          "name": "stdout",
          "text": [
            "Item(name=Chord, start=0, duration=16.0, value=N:N)\n",
            "Item(name=Chord, start=16, duration=8.0, value=B:maj)\n",
            "Item(name=Chord, start=24, duration=8.0, value=C#:maj)\n",
            "Item(name=Chord, start=32, duration=8.0, value=A#:min)\n",
            "Item(name=Chord, start=40, duration=8.0, value=D#:min)\n",
            "Item(name=Chord, start=48, duration=8.0, value=B:maj)\n",
            "Item(name=Chord, start=56, duration=8.0, value=C#:maj)\n",
            "Item(name=Chord, start=64, duration=16.0, value=F#:maj)\n",
            "Item(name=Chord, start=80, duration=8.0, value=B:maj)\n",
            "Item(name=Chord, start=88, duration=8.0, value=C#:maj)\n"
          ]
        }
      ]
    },
    {
      "cell_type": "markdown",
      "source": [
        "#### Phrase items"
      ],
      "metadata": {
        "id": "Ml0-r3FSsAWg"
      }
    },
    {
      "cell_type": "code",
      "source": [
        "with open(phrase_annotation_path) as f:\n",
        "    phrase_annotation = f.readline().strip()"
      ],
      "metadata": {
        "id": "1xZro1K6LSti"
      },
      "execution_count": null,
      "outputs": []
    },
    {
      "cell_type": "code",
      "source": [
        "print(phrase_annotation)"
      ],
      "metadata": {
        "colab": {
          "base_uri": "https://localhost:8080/"
        },
        "id": "PZ4GE7Dd6gux",
        "outputId": "ff5341bf-8b65-4332-db7e-39163e3dc22e"
      },
      "execution_count": null,
      "outputs": [
        {
          "output_type": "stream",
          "name": "stdout",
          "text": [
            "i4A4B8A4A4b4B8A4A4b4b4A4A4b4A4o3\n"
          ]
        }
      ]
    },
    {
      "cell_type": "code",
      "source": [
        "phrase_configuration = [('Start', 1)]\n",
        "index = 0\n",
        "while index < len(phrase_annotation):\n",
        "    label = phrase_annotation[index]\n",
        "    index += 1\n",
        "    length = ''\n",
        "    while index < len(phrase_annotation) and phrase_annotation[index].isdigit():\n",
        "        length += phrase_annotation[index]\n",
        "        index += 1\n",
        "    phrase_configuration.append((label, int(length)))"
      ],
      "metadata": {
        "id": "V2GcM2hhuBHS"
      },
      "execution_count": null,
      "outputs": []
    },
    {
      "cell_type": "code",
      "source": [
        "print(phrase_configuration)"
      ],
      "metadata": {
        "colab": {
          "base_uri": "https://localhost:8080/"
        },
        "id": "s9VlKZ5g6jU6",
        "outputId": "db04caf2-7bba-4952-9103-7d03317a8d64"
      },
      "execution_count": null,
      "outputs": [
        {
          "output_type": "stream",
          "name": "stdout",
          "text": [
            "[('Start', 1), ('i', 4), ('A', 4), ('B', 8), ('A', 4), ('A', 4), ('b', 4), ('B', 8), ('A', 4), ('A', 4), ('b', 4), ('b', 4), ('A', 4), ('A', 4), ('b', 4), ('A', 4), ('o', 3)]\n"
          ]
        }
      ]
    },
    {
      "cell_type": "code",
      "source": [
        "n_bars_lack = n_bars - sum(length for _, length in phrase_configuration)\n",
        "\n",
        "if n_bars_lack > 0:\n",
        "    last_label, last_length = phrase_configuration[-1]\n",
        "    phrase_configuration[-1] = (last_label, last_length + n_bars_lack)\n",
        "elif n_bars_lack < 0:\n",
        "    raise ValueError(\"Invalid phrase annotation.\")\n",
        "\n",
        "phrase_configuration.append(('End', 1))"
      ],
      "metadata": {
        "id": "eRmn7igl58hG"
      },
      "execution_count": null,
      "outputs": []
    },
    {
      "cell_type": "code",
      "source": [
        "print(phrase_configuration)"
      ],
      "metadata": {
        "colab": {
          "base_uri": "https://localhost:8080/"
        },
        "id": "BI-WZpmTCTXO",
        "outputId": "6f62a2ff-9299-4ede-d590-0f2f61d9bce7"
      },
      "execution_count": null,
      "outputs": [
        {
          "output_type": "stream",
          "name": "stdout",
          "text": [
            "[('Start', 1), ('i', 4), ('A', 4), ('B', 8), ('A', 4), ('A', 4), ('b', 4), ('B', 8), ('A', 4), ('A', 4), ('b', 4), ('b', 4), ('A', 4), ('A', 4), ('b', 4), ('A', 4), ('o', 4), ('End', 1)]\n"
          ]
        }
      ]
    },
    {
      "cell_type": "code",
      "source": [
        "phrase_items = []\n",
        "start = 0\n",
        "for label, length in phrase_configuration:\n",
        "    for i in range(length):\n",
        "        phrase_items.append(Item(name='Phrase', start=start, duration=resolution, value=label))\n",
        "        phrase_items.append(Item(name='Bar Countdown', start=start, duration=resolution, value=length - i))\n",
        "        start += resolution"
      ],
      "metadata": {
        "id": "0emh81cWj35l"
      },
      "execution_count": null,
      "outputs": []
    },
    {
      "cell_type": "code",
      "source": [
        "print(*phrase_items[:10], sep='\\n')"
      ],
      "metadata": {
        "colab": {
          "base_uri": "https://localhost:8080/"
        },
        "id": "1jt5oJzDj310",
        "outputId": "b9e859cd-0b3a-485a-dcc6-710ccf48e4ab"
      },
      "execution_count": null,
      "outputs": [
        {
          "output_type": "stream",
          "name": "stdout",
          "text": [
            "Item(name=Phrase, start=0, duration=16.0, value=Start)\n",
            "Item(name=Bar Countdown, start=0, duration=16.0, value=1)\n",
            "Item(name=Phrase, start=16, duration=16.0, value=i)\n",
            "Item(name=Bar Countdown, start=16, duration=16.0, value=4)\n",
            "Item(name=Phrase, start=32, duration=16.0, value=i)\n",
            "Item(name=Bar Countdown, start=32, duration=16.0, value=3)\n",
            "Item(name=Phrase, start=48, duration=16.0, value=i)\n",
            "Item(name=Bar Countdown, start=48, duration=16.0, value=2)\n",
            "Item(name=Phrase, start=64, duration=16.0, value=i)\n",
            "Item(name=Bar Countdown, start=64, duration=16.0, value=1)\n"
          ]
        }
      ]
    },
    {
      "cell_type": "markdown",
      "source": [
        "#### Items"
      ],
      "metadata": {
        "id": "prHhiKrVwApW"
      }
    },
    {
      "cell_type": "code",
      "source": [
        "items = bar_items + phrase_items + chord_items + note_items\n",
        "items.sort(key=lambda x: x.start)"
      ],
      "metadata": {
        "id": "SR4CaZOSpwd7"
      },
      "execution_count": null,
      "outputs": []
    },
    {
      "cell_type": "code",
      "source": [
        "print(*items[:10], sep='\\n')"
      ],
      "metadata": {
        "colab": {
          "base_uri": "https://localhost:8080/"
        },
        "id": "d5j7bw_JpwXh",
        "outputId": "194add24-8700-4bcf-8f51-ba706e4b8638"
      },
      "execution_count": null,
      "outputs": [
        {
          "output_type": "stream",
          "name": "stdout",
          "text": [
            "Item(name=Bar, start=0, duration=16.0, value=None)\n",
            "Item(name=Phrase, start=0, duration=16.0, value=Start)\n",
            "Item(name=Bar Countdown, start=0, duration=16.0, value=1)\n",
            "Item(name=Chord, start=0, duration=16.0, value=N:N)\n",
            "Item(name=Note, start=14, duration=1.5, value=66)\n",
            "Item(name=Bar, start=16, duration=16.0, value=None)\n",
            "Item(name=Phrase, start=16, duration=16.0, value=i)\n",
            "Item(name=Bar Countdown, start=16, duration=16.0, value=4)\n",
            "Item(name=Chord, start=16, duration=8.0, value=B:maj)\n",
            "Item(name=Note, start=16, duration=5.5, value=47)\n"
          ]
        }
      ]
    },
    {
      "cell_type": "markdown",
      "source": [
        "## Items → REMI"
      ],
      "metadata": {
        "id": "3c7pbrhw3Vqr"
      }
    },
    {
      "cell_type": "code",
      "source": [
        "class Event(object):\n",
        "    def __init__(self, name, value):\n",
        "        self.name = name\n",
        "        self.value = value\n",
        "\n",
        "    def __repr__(self):\n",
        "        return 'Event(name={}, value={})'.format(self.name, self.value)\n",
        "\n",
        "    def __str__(self):\n",
        "        return f'{self.name} ({self.value})'"
      ],
      "metadata": {
        "id": "CWa8oCN03bog"
      },
      "execution_count": null,
      "outputs": []
    },
    {
      "cell_type": "code",
      "source": [
        "REMI = []\n",
        "for item in items:\n",
        "    if item.name in ['Bar', 'Phrase', 'Bar Countdown']:\n",
        "        REMI.append(Event(name=item.name, value=item.value))\n",
        "        continue\n",
        "\n",
        "    REMI.append(Event(name='Beat', value=f'{item.start % resolution + 1}/{resolution}'))\n",
        "    if item.name == 'Chord':\n",
        "        REMI.append(Event(name=item.name, value=item.value))\n",
        "    elif item.name == 'Note':\n",
        "        REMI.append(Event(name='Note On', value=item.value))\n",
        "        REMI.append(Event(name='Note Duration', value=item.duration))"
      ],
      "metadata": {
        "id": "8HHRt58O3PBM"
      },
      "execution_count": null,
      "outputs": []
    },
    {
      "cell_type": "code",
      "source": [
        "for event in REMI[:80]:\n",
        "    if event.name == 'Bar': print(f'\\n{event}', end='\\t')\n",
        "    elif event.name in ['Beat', 'Note On', 'Phrase']: print(event, end='\\t')\n",
        "    else: print(event)"
      ],
      "metadata": {
        "colab": {
          "base_uri": "https://localhost:8080/"
        },
        "id": "6iBBMuCeHo3L",
        "outputId": "560deb6d-47d8-4258-e90d-c73b004f99a6"
      },
      "execution_count": null,
      "outputs": [
        {
          "output_type": "stream",
          "name": "stdout",
          "text": [
            "\n",
            "Bar (None)\tPhrase (Start)\tBar Countdown (1)\n",
            "Beat (1/16)\tChord (N:N)\n",
            "Beat (15/16)\tNote On (66)\tNote Duration (1.5)\n",
            "\n",
            "Bar (None)\tPhrase (i)\tBar Countdown (4)\n",
            "Beat (1/16)\tChord (B:maj)\n",
            "Beat (1/16)\tNote On (47)\tNote Duration (5.5)\n",
            "Beat (1/16)\tNote On (75)\tNote Duration (2.0)\n",
            "Beat (2/16)\tNote On (54)\tNote Duration (4.5)\n",
            "Beat (3/16)\tNote On (59)\tNote Duration (3.0)\n",
            "Beat (3/16)\tNote On (73)\tNote Duration (1.0)\n",
            "Beat (4/16)\tNote On (66)\tNote Duration (5.0)\n",
            "Beat (5/16)\tNote On (71)\tNote Duration (1.0)\n",
            "Beat (7/16)\tNote On (80)\tNote Duration (1.0)\n",
            "Beat (8/16)\tNote On (82)\tNote Duration (1.0)\n",
            "Beat (9/16)\tChord (C#:maj)\n",
            "Beat (9/16)\tNote On (49)\tNote Duration (5.0)\n",
            "Beat (9/16)\tNote On (80)\tNote Duration (5.0)\n",
            "Beat (10/16)\tNote On (56)\tNote Duration (3.5)\n",
            "Beat (11/16)\tNote On (61)\tNote Duration (3.5)\n",
            "Beat (12/16)\tNote On (65)\tNote Duration (2.5)\n",
            "Beat (15/16)\tNote On (66)\tNote Duration (1.5)\n",
            "\n",
            "Bar (None)\tPhrase (i)\tBar Countdown (3)\n",
            "Beat (1/16)\tChord (A#:min)\n",
            "Beat (1/16)\tNote On (46)\tNote Duration (6.5)\n",
            "Beat (1/16)\tNote On (75)\tNote Duration (2.0)\n",
            "Beat (2/16)\tNote On (53)\tNote Duration (5.5)\n",
            "Beat (3/16)\tNote On (58)\tNote Duration (6.0)\n",
            "Beat (3/16)\tNote On (73)\tNote Duration (3.0)\n"
          ]
        }
      ]
    },
    {
      "cell_type": "markdown",
      "source": [
        "# CP"
      ],
      "metadata": {
        "id": "M2DznnlcUPWP"
      }
    },
    {
      "cell_type": "markdown",
      "source": [
        "## REMI → CP"
      ],
      "metadata": {
        "id": "udoQHXMwUJku"
      }
    },
    {
      "cell_type": "code",
      "source": [
        "CP = []\n",
        "for i in range(len(REMI) - 2):\n",
        "    if REMI[i].name == 'Bar' and REMI[i + 1].name == 'Phrase' and REMI[i + 2].name == 'Bar Countdown':\n",
        "        current_beat = ''\n",
        "        event = {'Family': 'Bar', 'Beat': '', 'Chord': '', 'Note On': '', 'Note Duration': '', 'Phrase': '', 'Bar Countdown': ''}\n",
        "        current_phrase = REMI[i + 1].value\n",
        "        current_barcountdown = REMI[i + 2].value\n",
        "    elif REMI[i].name == 'Beat' and REMI[i].value != current_beat:\n",
        "        current_beat = REMI[i].value\n",
        "        event = {'Family': 'Pos', 'Beat': current_beat, 'Chord': 'CONTI', 'Note On': '', 'Note Duration': '', 'Phrase': '', 'Bar Countdown': ''}\n",
        "        if REMI[i + 1].name == 'Chord':\n",
        "            event['Chord'] = REMI[i + 1].value\n",
        "    elif REMI[i].name == 'Note On' and REMI[i + 1].name == 'Note Duration':\n",
        "        event = {'Family': 'Note', 'Beat': '', 'Chord': '', 'Note On': REMI[i].value, 'Note Duration': REMI[i + 1].value, 'Phrase': '', 'Bar Countdown': ''}\n",
        "    else:\n",
        "        continue\n",
        "    event['Phrase'] = current_phrase\n",
        "    event['Bar Countdown'] = current_barcountdown\n",
        "    CP.append(event)"
      ],
      "metadata": {
        "id": "HA_q3cZAWdjK"
      },
      "execution_count": null,
      "outputs": []
    },
    {
      "cell_type": "code",
      "source": [
        "keys = ['Family', 'Beat', 'Chord', 'Note On', 'Note Duration', 'Phrase', 'Bar Countdown']\n",
        "for key in keys:\n",
        "    print(f'{key:^15}', end='')\n",
        "print('\\n' + '-' * 15 * 7, end='')\n",
        "for event in CP[:40]:\n",
        "    for key in keys:\n",
        "        if event[key] == 'Bar': print()\n",
        "        print(f'{event[key]:^15}', end='')\n",
        "    print()"
      ],
      "metadata": {
        "colab": {
          "base_uri": "https://localhost:8080/"
        },
        "id": "nVzEmyGtrr29",
        "outputId": "290c9821-4282-4929-9481-dca0d70e15d4"
      },
      "execution_count": null,
      "outputs": [
        {
          "output_type": "stream",
          "name": "stdout",
          "text": [
            "    Family          Beat           Chord         Note On     Note Duration     Phrase      Bar Countdown \n",
            "---------------------------------------------------------------------------------------------------------\n",
            "      Bar                                                                       Start            1       \n",
            "      Pos           1/16            N:N                                         Start            1       \n",
            "      Pos           15/16          CONTI                                        Start            1       \n",
            "     Note                                          66             1.5           Start            1       \n",
            "\n",
            "      Bar                                                                         i              4       \n",
            "      Pos           1/16           B:maj                                          i              4       \n",
            "     Note                                          47             5.5             i              4       \n",
            "     Note                                          75             2.0             i              4       \n",
            "      Pos           2/16           CONTI                                          i              4       \n",
            "     Note                                          54             4.5             i              4       \n",
            "      Pos           3/16           CONTI                                          i              4       \n",
            "     Note                                          59             3.0             i              4       \n",
            "     Note                                          73             1.0             i              4       \n",
            "      Pos           4/16           CONTI                                          i              4       \n",
            "     Note                                          66             5.0             i              4       \n",
            "      Pos           5/16           CONTI                                          i              4       \n",
            "     Note                                          71             1.0             i              4       \n",
            "      Pos           7/16           CONTI                                          i              4       \n",
            "     Note                                          80             1.0             i              4       \n",
            "      Pos           8/16           CONTI                                          i              4       \n",
            "     Note                                          82             1.0             i              4       \n",
            "      Pos           9/16          C#:maj                                          i              4       \n",
            "     Note                                          49             5.0             i              4       \n",
            "     Note                                          80             5.0             i              4       \n",
            "      Pos           10/16          CONTI                                          i              4       \n",
            "     Note                                          56             3.5             i              4       \n",
            "      Pos           11/16          CONTI                                          i              4       \n",
            "     Note                                          61             3.5             i              4       \n",
            "      Pos           12/16          CONTI                                          i              4       \n",
            "     Note                                          65             2.5             i              4       \n",
            "      Pos           15/16          CONTI                                          i              4       \n",
            "     Note                                          66             1.5             i              4       \n",
            "\n",
            "      Bar                                                                         i              3       \n",
            "      Pos           1/16          A#:min                                          i              3       \n",
            "     Note                                          46             6.5             i              3       \n",
            "     Note                                          75             2.0             i              3       \n",
            "      Pos           2/16           CONTI                                          i              3       \n",
            "     Note                                          53             5.5             i              3       \n",
            "      Pos           3/16           CONTI                                          i              3       \n",
            "     Note                                          58             6.0             i              3       \n"
          ]
        }
      ]
    }
  ]
}